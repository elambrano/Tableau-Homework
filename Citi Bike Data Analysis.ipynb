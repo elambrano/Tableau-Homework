{
 "cells": [
  {
   "cell_type": "code",
   "execution_count": 43,
   "metadata": {},
   "outputs": [],
   "source": [
    "import pandas as pd\n",
    "import urllib.request\n",
    "import matplotlib.pyplot as plt\n",
    "%matplotlib inline"
   ]
  },
  {
   "cell_type": "code",
   "execution_count": 21,
   "metadata": {},
   "outputs": [
    {
     "name": "stdout",
     "output_type": "stream",
     "text": [
      "201801-citibike-tripdata.csv.zip\n",
      "201802-citibike-tripdata.csv.zip\n",
      "201803-citibike-tripdata.csv.zip\n",
      "201804-citibike-tripdata.csv.zip\n",
      "201805-citibike-tripdata.csv.zip\n",
      "201806-citibike-tripdata.csv.zip\n",
      "201807-citibike-tripdata.csv.zip\n",
      "201808-citibike-tripdata.csv.zip\n",
      "201809-citibike-tripdata.csv.zip\n",
      "201810-citibike-tripdata.csv.zip\n",
      "201811-citibike-tripdata.csv.zip\n",
      "201812-citibike-tripdata.csv.zip\n"
     ]
    }
   ],
   "source": [
    "year = '2018'\n",
    "\n",
    "for month in range(1, 13):\n",
    "    file_name = '{0}{1:02d}-citibike-tripdata.csv.zip'.format(year, month)\n",
    "    print(file_name)\n",
    "    url = 'https://s3.amazonaws.com/tripdata/' + file_name\n",
    "    urllib.request.urlretrieve(url, file_name)"
   ]
  },
  {
   "cell_type": "code",
   "execution_count": 24,
   "metadata": {},
   "outputs": [
    {
     "name": "stdout",
     "output_type": "stream",
     "text": [
      "1\n",
      "2\n"
     ]
    }
   ],
   "source": [
    "# Putting files together\n",
    "\n",
    "bike_data = None\n",
    "\n",
    "for month in range(1, 3):\n",
    "    \n",
    "    print(month)\n",
    "    file_name = '{0}{1:02d}-citibike-tripdata.csv.zip'.format(year, month)\n",
    "    monthly_data = pd.read_csv(file_name, compression = 'zip')\n",
    "    \n",
    "    if bike_data is None:\n",
    "        bike_data = monthly_data\n",
    "    else:\n",
    "        bike_data = pd.concat([bike_data, monthly_data])\n",
    "    "
   ]
  },
  {
   "cell_type": "markdown",
   "metadata": {},
   "source": [
    "* How many trips have been recorded total during the chosen period?"
   ]
  },
  {
   "cell_type": "code",
   "execution_count": 26,
   "metadata": {},
   "outputs": [
    {
     "data": {
      "text/plain": [
       "1562108"
      ]
     },
     "execution_count": 26,
     "metadata": {},
     "output_type": "execute_result"
    }
   ],
   "source": [
    "bike_data.shape[0]"
   ]
  },
  {
   "cell_type": "markdown",
   "metadata": {},
   "source": [
    "## Downsampling"
   ]
  },
  {
   "cell_type": "code",
   "execution_count": 37,
   "metadata": {},
   "outputs": [],
   "source": [
    "bike_data = bike_data.sample(1000)"
   ]
  },
  {
   "cell_type": "code",
   "execution_count": 38,
   "metadata": {},
   "outputs": [
    {
     "data": {
      "text/html": [
       "<div>\n",
       "<style scoped>\n",
       "    .dataframe tbody tr th:only-of-type {\n",
       "        vertical-align: middle;\n",
       "    }\n",
       "\n",
       "    .dataframe tbody tr th {\n",
       "        vertical-align: top;\n",
       "    }\n",
       "\n",
       "    .dataframe thead th {\n",
       "        text-align: right;\n",
       "    }\n",
       "</style>\n",
       "<table border=\"1\" class=\"dataframe\">\n",
       "  <thead>\n",
       "    <tr style=\"text-align: right;\">\n",
       "      <th></th>\n",
       "      <th>tripduration</th>\n",
       "      <th>starttime</th>\n",
       "      <th>stoptime</th>\n",
       "      <th>start station id</th>\n",
       "      <th>start station name</th>\n",
       "      <th>start station latitude</th>\n",
       "      <th>start station longitude</th>\n",
       "      <th>end station id</th>\n",
       "      <th>end station name</th>\n",
       "      <th>end station latitude</th>\n",
       "      <th>end station longitude</th>\n",
       "      <th>bikeid</th>\n",
       "      <th>usertype</th>\n",
       "      <th>birth year</th>\n",
       "      <th>gender</th>\n",
       "    </tr>\n",
       "  </thead>\n",
       "  <tbody>\n",
       "    <tr>\n",
       "      <th>418598</th>\n",
       "      <td>423</td>\n",
       "      <td>2018-02-10 14:40:49.157</td>\n",
       "      <td>2018-02-10 14:47:52.803</td>\n",
       "      <td>497</td>\n",
       "      <td>E 17 St &amp; Broadway</td>\n",
       "      <td>40.737050</td>\n",
       "      <td>-73.990093</td>\n",
       "      <td>212</td>\n",
       "      <td>W 16 St &amp; The High Line</td>\n",
       "      <td>40.743349</td>\n",
       "      <td>-74.006818</td>\n",
       "      <td>33436</td>\n",
       "      <td>Subscriber</td>\n",
       "      <td>1974</td>\n",
       "      <td>1</td>\n",
       "    </tr>\n",
       "    <tr>\n",
       "      <th>350712</th>\n",
       "      <td>218</td>\n",
       "      <td>2018-02-09 19:06:33.627</td>\n",
       "      <td>2018-02-09 19:10:11.664</td>\n",
       "      <td>467</td>\n",
       "      <td>Dean St &amp; 4 Ave</td>\n",
       "      <td>40.683125</td>\n",
       "      <td>-73.978951</td>\n",
       "      <td>3419</td>\n",
       "      <td>Douglass St &amp; 4 Ave</td>\n",
       "      <td>40.679279</td>\n",
       "      <td>-73.981540</td>\n",
       "      <td>15019</td>\n",
       "      <td>Subscriber</td>\n",
       "      <td>1985</td>\n",
       "      <td>1</td>\n",
       "    </tr>\n",
       "    <tr>\n",
       "      <th>268012</th>\n",
       "      <td>440</td>\n",
       "      <td>2018-01-13 12:00:27.466</td>\n",
       "      <td>2018-01-13 12:07:47.572</td>\n",
       "      <td>450</td>\n",
       "      <td>W 49 St &amp; 8 Ave</td>\n",
       "      <td>40.762272</td>\n",
       "      <td>-73.987882</td>\n",
       "      <td>448</td>\n",
       "      <td>W 37 St &amp; 10 Ave</td>\n",
       "      <td>40.756604</td>\n",
       "      <td>-73.997901</td>\n",
       "      <td>20164</td>\n",
       "      <td>Subscriber</td>\n",
       "      <td>1964</td>\n",
       "      <td>1</td>\n",
       "    </tr>\n",
       "    <tr>\n",
       "      <th>32603</th>\n",
       "      <td>501</td>\n",
       "      <td>2018-02-23 23:36:55.854</td>\n",
       "      <td>2018-02-23 23:45:17.693</td>\n",
       "      <td>173</td>\n",
       "      <td>Broadway &amp; W 49 St</td>\n",
       "      <td>40.760683</td>\n",
       "      <td>-73.984527</td>\n",
       "      <td>498</td>\n",
       "      <td>Broadway &amp; W 32 St</td>\n",
       "      <td>40.748549</td>\n",
       "      <td>-73.988084</td>\n",
       "      <td>31077</td>\n",
       "      <td>Customer</td>\n",
       "      <td>1969</td>\n",
       "      <td>0</td>\n",
       "    </tr>\n",
       "    <tr>\n",
       "      <th>51464</th>\n",
       "      <td>425</td>\n",
       "      <td>2018-02-09 15:30:39.447</td>\n",
       "      <td>2018-02-09 15:37:44.864</td>\n",
       "      <td>237</td>\n",
       "      <td>E 11 St &amp; 2 Ave</td>\n",
       "      <td>40.730473</td>\n",
       "      <td>-73.986724</td>\n",
       "      <td>402</td>\n",
       "      <td>Broadway &amp; E 22 St</td>\n",
       "      <td>40.740343</td>\n",
       "      <td>-73.989551</td>\n",
       "      <td>31010</td>\n",
       "      <td>Subscriber</td>\n",
       "      <td>1990</td>\n",
       "      <td>1</td>\n",
       "    </tr>\n",
       "  </tbody>\n",
       "</table>\n",
       "</div>"
      ],
      "text/plain": [
       "        tripduration               starttime                stoptime  \\\n",
       "418598           423 2018-02-10 14:40:49.157 2018-02-10 14:47:52.803   \n",
       "350712           218 2018-02-09 19:06:33.627 2018-02-09 19:10:11.664   \n",
       "268012           440 2018-01-13 12:00:27.466 2018-01-13 12:07:47.572   \n",
       "32603            501 2018-02-23 23:36:55.854 2018-02-23 23:45:17.693   \n",
       "51464            425 2018-02-09 15:30:39.447 2018-02-09 15:37:44.864   \n",
       "\n",
       "        start station id  start station name  start station latitude  \\\n",
       "418598               497  E 17 St & Broadway               40.737050   \n",
       "350712               467     Dean St & 4 Ave               40.683125   \n",
       "268012               450     W 49 St & 8 Ave               40.762272   \n",
       "32603                173  Broadway & W 49 St               40.760683   \n",
       "51464                237     E 11 St & 2 Ave               40.730473   \n",
       "\n",
       "        start station longitude  end station id         end station name  \\\n",
       "418598               -73.990093             212  W 16 St & The High Line   \n",
       "350712               -73.978951            3419      Douglass St & 4 Ave   \n",
       "268012               -73.987882             448         W 37 St & 10 Ave   \n",
       "32603                -73.984527             498       Broadway & W 32 St   \n",
       "51464                -73.986724             402       Broadway & E 22 St   \n",
       "\n",
       "        end station latitude  end station longitude  bikeid    usertype  \\\n",
       "418598             40.743349             -74.006818   33436  Subscriber   \n",
       "350712             40.679279             -73.981540   15019  Subscriber   \n",
       "268012             40.756604             -73.997901   20164  Subscriber   \n",
       "32603              40.748549             -73.988084   31077    Customer   \n",
       "51464              40.740343             -73.989551   31010  Subscriber   \n",
       "\n",
       "        birth year  gender  \n",
       "418598        1974       1  \n",
       "350712        1985       1  \n",
       "268012        1964       1  \n",
       "32603         1969       0  \n",
       "51464         1990       1  "
      ]
     },
     "execution_count": 38,
     "metadata": {},
     "output_type": "execute_result"
    }
   ],
   "source": [
    "bike_data.head()"
   ]
  },
  {
   "cell_type": "code",
   "execution_count": 39,
   "metadata": {},
   "outputs": [],
   "source": [
    "bike_data['starttime'] = pd.to_datetime(bike_data['starttime'])\n",
    "bike_data['stoptime']  = pd.to_datetime(bike_data['stoptime'])"
   ]
  },
  {
   "cell_type": "code",
   "execution_count": 40,
   "metadata": {},
   "outputs": [],
   "source": [
    "bike_data = bike_data.assign(duration = bike_data[['starttime', 'stoptime']].apply(lambda x: x[1]-x[0], axis=1))"
   ]
  },
  {
   "cell_type": "code",
   "execution_count": 41,
   "metadata": {},
   "outputs": [
    {
     "data": {
      "text/html": [
       "<div>\n",
       "<style scoped>\n",
       "    .dataframe tbody tr th:only-of-type {\n",
       "        vertical-align: middle;\n",
       "    }\n",
       "\n",
       "    .dataframe tbody tr th {\n",
       "        vertical-align: top;\n",
       "    }\n",
       "\n",
       "    .dataframe thead th {\n",
       "        text-align: right;\n",
       "    }\n",
       "</style>\n",
       "<table border=\"1\" class=\"dataframe\">\n",
       "  <thead>\n",
       "    <tr style=\"text-align: right;\">\n",
       "      <th></th>\n",
       "      <th>starttime</th>\n",
       "      <th>stoptime</th>\n",
       "      <th>duration</th>\n",
       "    </tr>\n",
       "  </thead>\n",
       "  <tbody>\n",
       "    <tr>\n",
       "      <th>418598</th>\n",
       "      <td>2018-02-10 14:40:49.157</td>\n",
       "      <td>2018-02-10 14:47:52.803</td>\n",
       "      <td>00:07:03.646000</td>\n",
       "    </tr>\n",
       "    <tr>\n",
       "      <th>350712</th>\n",
       "      <td>2018-02-09 19:06:33.627</td>\n",
       "      <td>2018-02-09 19:10:11.664</td>\n",
       "      <td>00:03:38.037000</td>\n",
       "    </tr>\n",
       "    <tr>\n",
       "      <th>268012</th>\n",
       "      <td>2018-01-13 12:00:27.466</td>\n",
       "      <td>2018-01-13 12:07:47.572</td>\n",
       "      <td>00:07:20.106000</td>\n",
       "    </tr>\n",
       "    <tr>\n",
       "      <th>32603</th>\n",
       "      <td>2018-02-23 23:36:55.854</td>\n",
       "      <td>2018-02-23 23:45:17.693</td>\n",
       "      <td>00:08:21.839000</td>\n",
       "    </tr>\n",
       "    <tr>\n",
       "      <th>51464</th>\n",
       "      <td>2018-02-09 15:30:39.447</td>\n",
       "      <td>2018-02-09 15:37:44.864</td>\n",
       "      <td>00:07:05.417000</td>\n",
       "    </tr>\n",
       "  </tbody>\n",
       "</table>\n",
       "</div>"
      ],
      "text/plain": [
       "                     starttime                stoptime        duration\n",
       "418598 2018-02-10 14:40:49.157 2018-02-10 14:47:52.803 00:07:03.646000\n",
       "350712 2018-02-09 19:06:33.627 2018-02-09 19:10:11.664 00:03:38.037000\n",
       "268012 2018-01-13 12:00:27.466 2018-01-13 12:07:47.572 00:07:20.106000\n",
       "32603  2018-02-23 23:36:55.854 2018-02-23 23:45:17.693 00:08:21.839000\n",
       "51464  2018-02-09 15:30:39.447 2018-02-09 15:37:44.864 00:07:05.417000"
      ]
     },
     "execution_count": 41,
     "metadata": {},
     "output_type": "execute_result"
    }
   ],
   "source": [
    "bike_data[['starttime', 'stoptime', 'duration']].head()"
   ]
  },
  {
   "cell_type": "code",
   "execution_count": 45,
   "metadata": {},
   "outputs": [],
   "source": [
    "bike_data = bike_data.assign(age = bike_data['birth year'].apply(lambda year: 2019 - year))"
   ]
  },
  {
   "cell_type": "code",
   "execution_count": 46,
   "metadata": {},
   "outputs": [
    {
     "data": {
      "text/plain": [
       "<matplotlib.axes._subplots.AxesSubplot at 0x13c725160>"
      ]
     },
     "execution_count": 46,
     "metadata": {},
     "output_type": "execute_result"
    },
    {
     "data": {
      "image/png": "[encoded data removed]",
      "text/plain": [
       "<Figure size 432x288 with 1 Axes>"
      ]
     },
     "metadata": {
      "needs_background": "light"
     },
     "output_type": "display_data"
    }
   ],
   "source": [
    "bike_data['age'].hist()"
   ]
  },
  {
   "cell_type": "code",
   "execution_count": 55,
   "metadata": {},
   "outputs": [
    {
     "data": {
      "image/png": "[encoded data removed]",
      "text/plain": [
       "<Figure size 432x288 with 1 Axes>"
      ]
     },
     "metadata": {
      "needs_background": "light"
     },
     "output_type": "display_data"
    }
   ],
   "source": [
    "(bike_data['duration'][bike_data['duration'] < pd.Timedelta(hours=1)] / pd.Timedelta(minutes=1)).plot.hist()\n",
    "_ = plt.title('Duration in minutes')"
   ]
  },
  {
   "cell_type": "markdown",
   "metadata": {},
   "source": [
    "## How many trips lasted more than 1 hour?"
   ]
  },
  {
   "cell_type": "code",
   "execution_count": 54,
   "metadata": {},
   "outputs": [
    {
     "data": {
      "text/plain": [
       "160996   04:49:21.749000\n",
       "139789   01:35:56.882000\n",
       "537934   01:15:45.118000\n",
       "324600   14:42:43.555000\n",
       "Name: duration, dtype: timedelta64[ns]"
      ]
     },
     "execution_count": 54,
     "metadata": {},
     "output_type": "execute_result"
    }
   ],
   "source": [
    "bike_data['duration'][bike_data['duration'] > pd.Timedelta(hours=1)]"
   ]
  },
  {
   "cell_type": "markdown",
   "metadata": {},
   "source": [
    "## Saving the table in Excel format"
   ]
  },
  {
   "cell_type": "code",
   "execution_count": 56,
   "metadata": {},
   "outputs": [],
   "source": [
    "bike_data.to_excel('bike_data_1000_trips.xlsx', index=False)"
   ]
  },
  {
   "cell_type": "code",
   "execution_count": 57,
   "metadata": {},
   "outputs": [
    {
     "data": {
      "text/html": [
       "<div>\n",
       "<style scoped>\n",
       "    .dataframe tbody tr th:only-of-type {\n",
       "        vertical-align: middle;\n",
       "    }\n",
       "\n",
       "    .dataframe tbody tr th {\n",
       "        vertical-align: top;\n",
       "    }\n",
       "\n",
       "    .dataframe thead th {\n",
       "        text-align: right;\n",
       "    }\n",
       "</style>\n",
       "<table border=\"1\" class=\"dataframe\">\n",
       "  <thead>\n",
       "    <tr style=\"text-align: right;\">\n",
       "      <th></th>\n",
       "      <th>tripduration</th>\n",
       "      <th>starttime</th>\n",
       "      <th>stoptime</th>\n",
       "      <th>start station id</th>\n",
       "      <th>start station name</th>\n",
       "      <th>start station latitude</th>\n",
       "      <th>start station longitude</th>\n",
       "      <th>end station id</th>\n",
       "      <th>end station name</th>\n",
       "      <th>end station latitude</th>\n",
       "      <th>end station longitude</th>\n",
       "      <th>bikeid</th>\n",
       "      <th>usertype</th>\n",
       "      <th>birth year</th>\n",
       "      <th>gender</th>\n",
       "      <th>duration</th>\n",
       "      <th>age</th>\n",
       "    </tr>\n",
       "  </thead>\n",
       "  <tbody>\n",
       "    <tr>\n",
       "      <th>418598</th>\n",
       "      <td>423</td>\n",
       "      <td>2018-02-10 14:40:49.157</td>\n",
       "      <td>2018-02-10 14:47:52.803</td>\n",
       "      <td>497</td>\n",
       "      <td>E 17 St &amp; Broadway</td>\n",
       "      <td>40.737050</td>\n",
       "      <td>-73.990093</td>\n",
       "      <td>212</td>\n",
       "      <td>W 16 St &amp; The High Line</td>\n",
       "      <td>40.743349</td>\n",
       "      <td>-74.006818</td>\n",
       "      <td>33436</td>\n",
       "      <td>Subscriber</td>\n",
       "      <td>1974</td>\n",
       "      <td>1</td>\n",
       "      <td>00:07:03.646000</td>\n",
       "      <td>45</td>\n",
       "    </tr>\n",
       "    <tr>\n",
       "      <th>350712</th>\n",
       "      <td>218</td>\n",
       "      <td>2018-02-09 19:06:33.627</td>\n",
       "      <td>2018-02-09 19:10:11.664</td>\n",
       "      <td>467</td>\n",
       "      <td>Dean St &amp; 4 Ave</td>\n",
       "      <td>40.683125</td>\n",
       "      <td>-73.978951</td>\n",
       "      <td>3419</td>\n",
       "      <td>Douglass St &amp; 4 Ave</td>\n",
       "      <td>40.679279</td>\n",
       "      <td>-73.981540</td>\n",
       "      <td>15019</td>\n",
       "      <td>Subscriber</td>\n",
       "      <td>1985</td>\n",
       "      <td>1</td>\n",
       "      <td>00:03:38.037000</td>\n",
       "      <td>34</td>\n",
       "    </tr>\n",
       "    <tr>\n",
       "      <th>268012</th>\n",
       "      <td>440</td>\n",
       "      <td>2018-01-13 12:00:27.466</td>\n",
       "      <td>2018-01-13 12:07:47.572</td>\n",
       "      <td>450</td>\n",
       "      <td>W 49 St &amp; 8 Ave</td>\n",
       "      <td>40.762272</td>\n",
       "      <td>-73.987882</td>\n",
       "      <td>448</td>\n",
       "      <td>W 37 St &amp; 10 Ave</td>\n",
       "      <td>40.756604</td>\n",
       "      <td>-73.997901</td>\n",
       "      <td>20164</td>\n",
       "      <td>Subscriber</td>\n",
       "      <td>1964</td>\n",
       "      <td>1</td>\n",
       "      <td>00:07:20.106000</td>\n",
       "      <td>55</td>\n",
       "    </tr>\n",
       "    <tr>\n",
       "      <th>32603</th>\n",
       "      <td>501</td>\n",
       "      <td>2018-02-23 23:36:55.854</td>\n",
       "      <td>2018-02-23 23:45:17.693</td>\n",
       "      <td>173</td>\n",
       "      <td>Broadway &amp; W 49 St</td>\n",
       "      <td>40.760683</td>\n",
       "      <td>-73.984527</td>\n",
       "      <td>498</td>\n",
       "      <td>Broadway &amp; W 32 St</td>\n",
       "      <td>40.748549</td>\n",
       "      <td>-73.988084</td>\n",
       "      <td>31077</td>\n",
       "      <td>Customer</td>\n",
       "      <td>1969</td>\n",
       "      <td>0</td>\n",
       "      <td>00:08:21.839000</td>\n",
       "      <td>50</td>\n",
       "    </tr>\n",
       "    <tr>\n",
       "      <th>51464</th>\n",
       "      <td>425</td>\n",
       "      <td>2018-02-09 15:30:39.447</td>\n",
       "      <td>2018-02-09 15:37:44.864</td>\n",
       "      <td>237</td>\n",
       "      <td>E 11 St &amp; 2 Ave</td>\n",
       "      <td>40.730473</td>\n",
       "      <td>-73.986724</td>\n",
       "      <td>402</td>\n",
       "      <td>Broadway &amp; E 22 St</td>\n",
       "      <td>40.740343</td>\n",
       "      <td>-73.989551</td>\n",
       "      <td>31010</td>\n",
       "      <td>Subscriber</td>\n",
       "      <td>1990</td>\n",
       "      <td>1</td>\n",
       "      <td>00:07:05.417000</td>\n",
       "      <td>29</td>\n",
       "    </tr>\n",
       "  </tbody>\n",
       "</table>\n",
       "</div>"
      ],
      "text/plain": [
       "        tripduration               starttime                stoptime  \\\n",
       "418598           423 2018-02-10 14:40:49.157 2018-02-10 14:47:52.803   \n",
       "350712           218 2018-02-09 19:06:33.627 2018-02-09 19:10:11.664   \n",
       "268012           440 2018-01-13 12:00:27.466 2018-01-13 12:07:47.572   \n",
       "32603            501 2018-02-23 23:36:55.854 2018-02-23 23:45:17.693   \n",
       "51464            425 2018-02-09 15:30:39.447 2018-02-09 15:37:44.864   \n",
       "\n",
       "        start station id  start station name  start station latitude  \\\n",
       "418598               497  E 17 St & Broadway               40.737050   \n",
       "350712               467     Dean St & 4 Ave               40.683125   \n",
       "268012               450     W 49 St & 8 Ave               40.762272   \n",
       "32603                173  Broadway & W 49 St               40.760683   \n",
       "51464                237     E 11 St & 2 Ave               40.730473   \n",
       "\n",
       "        start station longitude  end station id         end station name  \\\n",
       "418598               -73.990093             212  W 16 St & The High Line   \n",
       "350712               -73.978951            3419      Douglass St & 4 Ave   \n",
       "268012               -73.987882             448         W 37 St & 10 Ave   \n",
       "32603                -73.984527             498       Broadway & W 32 St   \n",
       "51464                -73.986724             402       Broadway & E 22 St   \n",
       "\n",
       "        end station latitude  end station longitude  bikeid    usertype  \\\n",
       "418598             40.743349             -74.006818   33436  Subscriber   \n",
       "350712             40.679279             -73.981540   15019  Subscriber   \n",
       "268012             40.756604             -73.997901   20164  Subscriber   \n",
       "32603              40.748549             -73.988084   31077    Customer   \n",
       "51464              40.740343             -73.989551   31010  Subscriber   \n",
       "\n",
       "        birth year  gender        duration  age  \n",
       "418598        1974       1 00:07:03.646000   45  \n",
       "350712        1985       1 00:03:38.037000   34  \n",
       "268012        1964       1 00:07:20.106000   55  \n",
       "32603         1969       0 00:08:21.839000   50  \n",
       "51464         1990       1 00:07:05.417000   29  "
      ]
     },
     "execution_count": 57,
     "metadata": {},
     "output_type": "execute_result"
    }
   ],
   "source": [
    "bike_data.head()"
   ]
  },
  {
   "cell_type": "code",
   "execution_count": null,
   "metadata": {},
   "outputs": [],
   "source": []
  }
 ],
 "metadata": {
  "kernelspec": {
   "display_name": "Python 3",
   "language": "python",
   "name": "python3"
  },
  "language_info": {
   "codemirror_mode": {
    "name": "ipython",
    "version": 3
   },
   "file_extension": ".py",
   "mimetype": "text/x-python",
   "name": "python",
   "nbconvert_exporter": "python",
   "pygments_lexer": "ipython3",
   "version": "3.7.0"
  }
 },
 "nbformat": 4,
 "nbformat_minor": 2
}
